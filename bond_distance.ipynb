{
 "cells": [
  {
   "cell_type": "code",
   "execution_count": 4,
   "id": "db16a802",
   "metadata": {},
   "outputs": [],
   "source": [
    "from ase.build import molecule\n",
    "from ase.io import write\n",
    "from ase.visualize import view\n",
    "\n",
    "benzene = molecule('C6H6')\n",
    "\n",
    "write('benzene.xyz',benzene)"
   ]
  },
  {
   "cell_type": "code",
   "execution_count": 1,
   "id": "1d8788cc",
   "metadata": {
    "scrolled": false
   },
   "outputs": [
    {
     "name": "stdout",
     "output_type": "stream",
     "text": [
      "{'C0-C1': 1.395247815900817, 'C0-C5': 1.395247815900817, 'C0-H6': 1.0871119999999999, 'C1-C2': 1.395248, 'C1-H7': 1.0871123388247415, 'C2-C3': 1.395247815900817, 'C2-H8': 1.0871123388247415, 'C3-C4': 1.395247815900817, 'C3-H9': 1.0871119999999999, 'C4-C5': 1.395248, 'C4-H10': 1.0871123388247415, 'C5-H11': 1.0871123388247415}\n"
     ]
    }
   ],
   "source": [
    "def read_xyz(filename):\n",
    "    \n",
    "    with open(filename, 'r') as file:  \n",
    "        \n",
    "        lines = [line.rstrip() for line in file]\n",
    "        \n",
    "        lines = [line.splitlines() for line in lines] \n",
    "\n",
    "        lines = [line[0].split() for line in lines] \n",
    "        \n",
    "        atoms = [atom[0] for atom in lines[2:]]\n",
    "        coords_list = [atom[1:4] for atom in lines[2:]]\n",
    "        \n",
    "        coords_list = [[float(x) for x  in coords] for coords in coords_list]\n",
    "    \n",
    "    atoms_dict = {'atoms':atoms,'coords':coords_list}\n",
    "        \n",
    "    return atoms_dict\n",
    "\n",
    "def coords_list_method(atoms_dict):\n",
    "    \n",
    "    coords = atoms_dict['coords']\n",
    "    atoms = atoms_dict['atoms']\n",
    "    \n",
    "    dist_mtx = [[((atom1[0]-atom2[0])**2+(atom1[1]-atom2[1])**2+(atom1[2]-atom2[2])**2)**0.5 for atom2 in coords] for atom1 in coords]\n",
    "\n",
    "    dist_mtx = find_bonds(atoms, dist_mtx)\n",
    "    \n",
    "    return dist_mtx\n",
    "    \n",
    "def find_bonds(atoms, distance_matrix):\n",
    "    \n",
    "    from ase.data import covalent_radii, atomic_numbers\n",
    "\n",
    "    atoms_radii = [covalent_radii[atomic_numbers[atom]] for atom in atoms]\n",
    "\n",
    "    for i, radii1 in enumerate(atoms_radii):\n",
    "        for j, radii2 in enumerate(atoms_radii):\n",
    "\n",
    "            if radii1+radii2+0.5 < distance_matrix[i][j]:\n",
    "                distance_matrix[i][j] = 0\n",
    "            \n",
    "    return distance_matrix\n",
    "\n",
    "def bonds_list(distance_matrix, atoms):\n",
    "    \n",
    "    bond_dict = {}\n",
    "    \n",
    "    for i, atom1 in enumerate(atoms):\n",
    "        for j, atom2 in enumerate(atoms):\n",
    "            \n",
    "            if j >= i:\n",
    "                if distance_matrix[i][j] > 0.0:\n",
    "                    bond_dict.update({f\"{atom1}{str(i)}-{atom2}{str(j)}\":distance_matrix[i][j]})\n",
    "                \n",
    "    print(bond_dict)\n",
    "    \n",
    "benzene = read_xyz('benzene.xyz')\n",
    "\n",
    "benzene_distmtx = coords_list_method(benzene)\n",
    "bonds_list(benzene_distmtx, benzene['atoms'])\n"
   ]
  },
  {
   "cell_type": "code",
   "execution_count": null,
   "id": "db470598",
   "metadata": {},
   "outputs": [],
   "source": []
  }
 ],
 "metadata": {
  "kernelspec": {
   "display_name": "Python 3 (ipykernel)",
   "language": "python",
   "name": "python3"
  },
  "language_info": {
   "codemirror_mode": {
    "name": "ipython",
    "version": 3
   },
   "file_extension": ".py",
   "mimetype": "text/x-python",
   "name": "python",
   "nbconvert_exporter": "python",
   "pygments_lexer": "ipython3",
   "version": "3.9.7"
  }
 },
 "nbformat": 4,
 "nbformat_minor": 5
}
